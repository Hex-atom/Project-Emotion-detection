{
 "cells": [
  {
   "cell_type": "markdown",
   "id": "3564d4b1",
   "metadata": {},
   "source": [
    "# prototype of the emotion extraction with images"
   ]
  },
  {
   "cell_type": "code",
   "execution_count": null,
   "id": "2312fc7b",
   "metadata": {},
   "outputs": [],
   "source": [
    "import cv2\n",
    "import numpy as np\n",
    "from matplotlib import pyplot as plt\n",
    "%matplotlib inline\n",
    "from deepface import DeepFace\n",
    "\n",
    "\n",
    "\n",
    "img = cv2.imread('user.jpg',1)\n",
    "img = cv2.resize(img, (640, 480))\n",
    "\n",
    "result = DeepFace.analyze(img, ['emotion'],detector_backend='ssd', enforce_detection = False)\n",
    "re = result[0]['region']\n",
    "\n",
    "x, y, w, h = re['x'], re['y'],re['w'],re['h']\n",
    "\n",
    "cv2.rectangle(img,(x,y),(x+w,y+h),(10,250,10),\n",
    "            thickness=int(img.shape[1]*0.005),lineType=cv2.LINE_AA)\n",
    "cv2.putText(img, result[0]['dominant_emotion'] , (x , y - 5), cv2.FONT_HERSHEY_COMPLEX, 0.5, (20, 40, 60))\n",
    "    \n",
    "\n",
    "cv2.imshow('description' ,img)\n",
    "cv2.waitKey(0)\n",
    "cv2.destroyAllWindows()"
   ]
  }
 ],
 "metadata": {
  "kernelspec": {
   "display_name": "Project_emotion",
   "language": "python",
   "name": "project_emotion"
  },
  "language_info": {
   "codemirror_mode": {
    "name": "ipython",
    "version": 3
   },
   "file_extension": ".py",
   "mimetype": "text/x-python",
   "name": "python",
   "nbconvert_exporter": "python",
   "pygments_lexer": "ipython3",
   "version": "3.11.3"
  }
 },
 "nbformat": 4,
 "nbformat_minor": 5
}
