{
 "cells": [
  {
   "cell_type": "markdown",
   "id": "5ff22007",
   "metadata": {},
   "source": [
    "# DEEPFACE COMPLET WORK"
   ]
  },
  {
   "cell_type": "code",
   "execution_count": null,
   "id": "4c6c7756",
   "metadata": {
    "scrolled": true
   },
   "outputs": [],
   "source": [
    "import cv2\n",
    "import gc\n",
    "import pandas as pd\n",
    "from deepface import DeepFace\n",
    "\n",
    "def analyzer(func):\n",
    "    def wrapper(*args, **kwargs):\n",
    "        result = func(*args, **kwargs)\n",
    "        return result\n",
    "    return wrapper\n",
    "\n",
    "@analyzer    \n",
    "def emotionDetect(img):\n",
    "    return DeepFace.analyze(img, [\"emotion\"], detector_backend='ssd', enforce_detection=False)\n",
    "\n",
    "@analyzer\n",
    "def faceDetect(img, path):\n",
    "    return DeepFace.verify(img, path, distance_metric=\"euclidean_l2\",\n",
    "                           enforce_detection=False, detector_backend='ssd')\n",
    "\n",
    "time_target = 5\n",
    "indice = 0\n",
    "\n",
    "source = cv2.VideoCapture(0)\n",
    "\n",
    "while True:\n",
    "    ret, frame = source.read()\n",
    "    frame = cv2.flip(frame, 1)\n",
    "    frame = cv2.resize(frame, (640, 480))\n",
    "    if not ret:\n",
    "        break\n",
    "\n",
    "    detector = cv2.CascadeClassifier(cv2.data.haarcascades + 'haarcascade_frontalface_default.xml')\n",
    "    gray = cv2.cvtColor(frame, cv2.COLOR_BGR2GRAY)\n",
    "    faces = detector.detectMultiScale(gray, scaleFactor=1.05, minNeighbors=6, minSize=(100, 100))\n",
    "\n",
    "    for x, y, w, h in faces:\n",
    "        if indice % time_target == 0:\n",
    "            result2 = faceDetect(frame, 'Face Recognition/Yassine1.jpg')\n",
    "\n",
    "        cv2.rectangle(frame, (x, y), (x + w, y - int(frame.shape[1] / 40)),\n",
    "                      (200, 200, 200), cv2.FILLED)\n",
    "        if indice % time_target == 0:\n",
    "            result1 = emotionDetect(frame)\n",
    "            res1 = result1[0][\"dominant_emotion\"]\n",
    "\n",
    "        if result2['verified']:\n",
    "            cv2.rectangle(frame, (x, y), (x + w, y + h),\n",
    "                          (50, 250, 50), thickness=int(frame.shape[0] * 0.005), lineType=cv2.LINE_AA)\n",
    "            cv2.putText(frame, str('Yassine is ' + res1), (x, y - 5), cv2.FONT_HERSHEY_COMPLEX, 0.5, (0, 0, 0))\n",
    "        else:\n",
    "            cv2.rectangle(frame, (x, y), (x + w, y + h),\n",
    "                          (50, 50, 250), thickness=int(frame.shape[0] * 0.005), lineType=cv2.LINE_AA)\n",
    "            cv2.putText(frame, str('someone is ' + res1), (x, y - 5), cv2.FONT_HERSHEY_COMPLEX, 0.5, (0, 0, 0))\n",
    "            indice += 1\n",
    "\n",
    "            \n",
    "    cv2.imshow('Live', frame)\n",
    "    gc.collect()\n",
    "    if cv2.waitKey(int(1000/30)) & 0xFF == ord('q'):\n",
    "        break\n",
    "\n",
    "source.release()\n",
    "cv2.destroyAllWindows()\n",
    "\n"
   ]
  }
 ],
 "metadata": {
  "kernelspec": {
   "display_name": "emotion_detection_app",
   "language": "python",
   "name": "python3"
  },
  "language_info": {
   "codemirror_mode": {
    "name": "ipython",
    "version": 3
   },
   "file_extension": ".py",
   "mimetype": "text/x-python",
   "name": "python",
   "nbconvert_exporter": "python",
   "pygments_lexer": "ipython3",
   "version": "3.11.4"
  }
 },
 "nbformat": 4,
 "nbformat_minor": 5
}
